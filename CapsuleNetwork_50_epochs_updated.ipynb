{
  "cells": [
    {
      "cell_type": "code",
      "execution_count": 3,
      "metadata": {
        "id": "p7ZB61JvCSYd",
        "colab": {
          "base_uri": "https://localhost:8080/"
        },
        "outputId": "4904b826-4f04-444a-8164-0e8694090128"
      },
      "outputs": [
        {
          "output_type": "stream",
          "name": "stdout",
          "text": [
            "Requirement already satisfied: tensorboard in /usr/local/lib/python3.11/dist-packages (2.18.0)\n",
            "Requirement already satisfied: absl-py>=0.4 in /usr/local/lib/python3.11/dist-packages (from tensorboard) (1.4.0)\n",
            "Requirement already satisfied: grpcio>=1.48.2 in /usr/local/lib/python3.11/dist-packages (from tensorboard) (1.70.0)\n",
            "Requirement already satisfied: markdown>=2.6.8 in /usr/local/lib/python3.11/dist-packages (from tensorboard) (3.7)\n",
            "Requirement already satisfied: numpy>=1.12.0 in /usr/local/lib/python3.11/dist-packages (from tensorboard) (1.26.4)\n",
            "Requirement already satisfied: packaging in /usr/local/lib/python3.11/dist-packages (from tensorboard) (24.2)\n",
            "Requirement already satisfied: protobuf!=4.24.0,>=3.19.6 in /usr/local/lib/python3.11/dist-packages (from tensorboard) (4.25.6)\n",
            "Requirement already satisfied: setuptools>=41.0.0 in /usr/local/lib/python3.11/dist-packages (from tensorboard) (75.1.0)\n",
            "Requirement already satisfied: six>1.9 in /usr/local/lib/python3.11/dist-packages (from tensorboard) (1.17.0)\n",
            "Requirement already satisfied: tensorboard-data-server<0.8.0,>=0.7.0 in /usr/local/lib/python3.11/dist-packages (from tensorboard) (0.7.2)\n",
            "Requirement already satisfied: werkzeug>=1.0.1 in /usr/local/lib/python3.11/dist-packages (from tensorboard) (3.1.3)\n",
            "Requirement already satisfied: MarkupSafe>=2.1.1 in /usr/local/lib/python3.11/dist-packages (from werkzeug>=1.0.1->tensorboard) (3.0.2)\n"
          ]
        }
      ],
      "source": [
        "\n",
        "import numpy as np\n",
        "from tqdm import tqdm\n",
        "import tensorflow as tf\n",
        "from datetime import datetime\n",
        "\n",
        "\n",
        "%load_ext tensorboard"
      ]
    },
    {
      "cell_type": "code",
      "execution_count": 2,
      "metadata": {
        "colab": {
          "base_uri": "https://localhost:8080/"
        },
        "id": "81x0frMUDfUR",
        "outputId": "7c4ec734-212c-4783-b968-6976b6b5cdc4"
      },
      "outputs": [
        {
          "output_type": "stream",
          "name": "stdout",
          "text": [
            "Found GPU at: /device:GPU:0\n"
          ]
        }
      ],
      "source": [
        "device_name = tf.test.gpu_device_name()\n",
        "if device_name != '/device:GPU:0':\n",
        "    raise SystemError('GPU device not found')\n",
        "print('Found GPU at: {}'.format(device_name))"
      ]
    },
    {
      "cell_type": "code",
      "execution_count": 3,
      "metadata": {
        "id": "NAKFkKuTCSYn"
      },
      "outputs": [],
      "source": [
        "# Parameters Based on Paper\n",
        "epsilon = 1e-7\n",
        "m_plus = 0.9\n",
        "m_minus = 0.1\n",
        "lambda_ = 0.5\n",
        "alpha = 0.0005\n",
        "epochs = 50\n",
        "no_of_secondary_capsules = 10\n",
        "\n",
        "optimizer = tf.keras.optimizers.Adam()"
      ]
    },
    {
      "cell_type": "code",
      "execution_count": 4,
      "metadata": {
        "id": "P-6K7DWeCSYw"
      },
      "outputs": [],
      "source": [
        "params = {\n",
        "    \"no_of_conv_kernels\": 256,\n",
        "    \"no_of_primary_capsules\": 32,\n",
        "    \"no_of_secondary_capsules\": 10,\n",
        "    \"primary_capsule_vector\": 8,\n",
        "    \"secondary_capsule_vector\": 16,\n",
        "    \"r\":3,\n",
        "}"
      ]
    },
    {
      "cell_type": "code",
      "execution_count": 5,
      "metadata": {
        "id": "caLHZNu4CSY1"
      },
      "outputs": [],
      "source": [
        "checkpoint_path = './logs/model/capsule'\n",
        "\n",
        "stamp = datetime.now().strftime(\"%Y%m%d-%H%M%S\")\n",
        "\n",
        "logdir = './logs/func/%s' % stamp\n",
        "writer = tf.summary.create_file_writer(logdir)\n",
        "\n",
        "scalar_logdir = './logs/scalars/%s' % stamp\n",
        "file_writer = tf.summary.create_file_writer(scalar_logdir + \"/metrics\")"
      ]
    },
    {
      "cell_type": "code",
      "execution_count": 7,
      "metadata": {
        "id": "ZQe1dcN6CSY6",
        "colab": {
          "base_uri": "https://localhost:8080/"
        },
        "outputId": "ddcd58c5-d423-486b-e63b-f455312a28a2"
      },
      "outputs": [
        {
          "output_type": "stream",
          "name": "stdout",
          "text": [
            "Downloading data from https://storage.googleapis.com/tensorflow/tf-keras-datasets/train-labels-idx1-ubyte.gz\n",
            "\u001b[1m29515/29515\u001b[0m \u001b[32m━━━━━━━━━━━━━━━━━━━━\u001b[0m\u001b[37m\u001b[0m \u001b[1m0s\u001b[0m 0us/step\n",
            "Downloading data from https://storage.googleapis.com/tensorflow/tf-keras-datasets/train-images-idx3-ubyte.gz\n",
            "\u001b[1m26421880/26421880\u001b[0m \u001b[32m━━━━━━━━━━━━━━━━━━━━\u001b[0m\u001b[37m\u001b[0m \u001b[1m0s\u001b[0m 0us/step\n",
            "Downloading data from https://storage.googleapis.com/tensorflow/tf-keras-datasets/t10k-labels-idx1-ubyte.gz\n",
            "\u001b[1m5148/5148\u001b[0m \u001b[32m━━━━━━━━━━━━━━━━━━━━\u001b[0m\u001b[37m\u001b[0m \u001b[1m0s\u001b[0m 0us/step\n",
            "Downloading data from https://storage.googleapis.com/tensorflow/tf-keras-datasets/t10k-images-idx3-ubyte.gz\n",
            "\u001b[1m4422102/4422102\u001b[0m \u001b[32m━━━━━━━━━━━━━━━━━━━━\u001b[0m\u001b[37m\u001b[0m \u001b[1m0s\u001b[0m 0us/step\n"
          ]
        }
      ],
      "source": [
        "#Instead of the MNIST dataset used in the video, another dataset called fashion_MNIST dataset is used\n",
        "(X_train, y_train), (X_test , y_test)= tf.keras.datasets.fashion_mnist.load_data()"
      ]
    },
    {
      "cell_type": "code",
      "execution_count": 8,
      "metadata": {
        "id": "s2ObVfipCSY_"
      },
      "outputs": [],
      "source": [
        "X_train = X_train / 255.0\n",
        "X_train = tf.cast(X_train, dtype=tf.float32)\n",
        "X_train = tf.expand_dims(X_train, axis=-1)\n",
        "\n",
        "X_test = X_test / 255.0\n",
        "X_test = tf.cast(X_test, dtype=tf.float32)\n",
        "X_test = tf.expand_dims(X_test, axis=-1)"
      ]
    },
    {
      "cell_type": "code",
      "execution_count": 9,
      "metadata": {
        "id": "W-bhvXFnCSZE"
      },
      "outputs": [],
      "source": [
        "testing_dataset_size = X_test.shape[0]\n",
        "training_dataset_size = X_train.shape[0]"
      ]
    },
    {
      "cell_type": "code",
      "execution_count": 10,
      "metadata": {
        "id": "4kP4-BNxCSZI"
      },
      "outputs": [],
      "source": [
        "dataset = tf.data.Dataset.from_tensor_slices((X_train, y_train))\n",
        "dataset = dataset.shuffle(buffer_size=len(dataset), reshuffle_each_iteration=True)\n",
        "dataset = dataset.batch(batch_size=64)"
      ]
    },
    {
      "cell_type": "code",
      "execution_count": 11,
      "metadata": {
        "id": "sXB9-g8vCSZL"
      },
      "outputs": [],
      "source": [
        "testing = tf.data.Dataset.from_tensor_slices((X_test, y_test))\n",
        "testing = testing.batch(batch_size=64)"
      ]
    },
    {
      "cell_type": "code",
      "execution_count": 12,
      "metadata": {
        "id": "S2rzxmIQCSZQ"
      },
      "outputs": [],
      "source": [
        "class CapsuleNetwork(tf.keras.Model):\n",
        "    def __init__(self, no_of_conv_kernels, no_of_primary_capsules, primary_capsule_vector, no_of_secondary_capsules, secondary_capsule_vector, r):\n",
        "        super(CapsuleNetwork, self).__init__()\n",
        "        self.no_of_conv_kernels = no_of_conv_kernels\n",
        "        self.no_of_primary_capsules = no_of_primary_capsules\n",
        "        self.primary_capsule_vector = primary_capsule_vector\n",
        "        self.no_of_secondary_capsules = no_of_secondary_capsules\n",
        "        self.secondary_capsule_vector = secondary_capsule_vector\n",
        "        self.r = r\n",
        "\n",
        "\n",
        "        with tf.name_scope(\"Variables\") as scope:\n",
        "            self.convolution = tf.keras.layers.Conv2D(self.no_of_conv_kernels, [9,9], strides=[1,1], name='ConvolutionLayer', activation='relu')\n",
        "            self.primary_capsule = tf.keras.layers.Conv2D(self.no_of_primary_capsules * self.primary_capsule_vector, [9,9], strides=[2,2], name=\"PrimaryCapsule\")\n",
        "            self.w = tf.Variable(tf.random_normal_initializer()(shape=[1, 1152, self.no_of_secondary_capsules, self.secondary_capsule_vector, self.primary_capsule_vector]), dtype=tf.float32, name=\"PoseEstimation\", trainable=True)\n",
        "            self.dense_1 = tf.keras.layers.Dense(units = 512, activation='relu')\n",
        "            self.dense_2 = tf.keras.layers.Dense(units = 1024, activation='relu')\n",
        "            self.dense_3 = tf.keras.layers.Dense(units = 784, activation='sigmoid', dtype='float32')\n",
        "\n",
        "    def build(self, input_shape):\n",
        "        pass\n",
        "\n",
        "    def squash(self, s):\n",
        "        with tf.name_scope(\"SquashFunction\") as scope:\n",
        "            s_norm = tf.norm(s, axis=-1, keepdims=True)\n",
        "            return tf.square(s_norm)/(1 + tf.square(s_norm)) * s/(s_norm + epsilon)\n",
        "\n",
        "    @tf.function\n",
        "    def call(self, inputs):\n",
        "        input_x, y = inputs\n",
        "        # input_x.shape: (None, 28, 28, 1)\n",
        "        # y.shape: (None, 10)\n",
        "\n",
        "        x = self.convolution(input_x) # x.shape: (None, 20, 20, 256)\n",
        "        x = self.primary_capsule(x) # x.shape: (None, 6, 6, 256)\n",
        "\n",
        "        with tf.name_scope(\"CapsuleFormation\") as scope:\n",
        "            u = tf.reshape(x, (-1, self.no_of_primary_capsules * x.shape[1] * x.shape[2], 8)) # u.shape: (None, 1152, 8)\n",
        "            u = tf.expand_dims(u, axis=-2) # u.shape: (None, 1152, 1, 8)\n",
        "            u = tf.expand_dims(u, axis=-1) # u.shape: (None, 1152, 1, 8, 1)\n",
        "            u_hat = tf.matmul(self.w, u) # u_hat.shape: (None, 1152, 10, 16, 1)\n",
        "            u_hat = tf.squeeze(u_hat, [4]) # u_hat.shape: (None, 1152, 10, 16)\n",
        "\n",
        "\n",
        "        with tf.name_scope(\"DynamicRouting\") as scope:\n",
        "            b = tf.zeros((input_x.shape[0], 1152, self.no_of_secondary_capsules, 1)) # b.shape: (None, 1152, 10, 1)\n",
        "            for i in range(self.r): # self.r = 3\n",
        "                c = tf.nn.softmax(b, axis=-2) # c.shape: (None, 1152, 10, 1)\n",
        "                s = tf.reduce_sum(tf.multiply(c, u_hat), axis=1, keepdims=True) # s.shape: (None, 1, 10, 16)\n",
        "                v = self.squash(s) # v.shape: (None, 1, 10, 16)\n",
        "                agreement = tf.squeeze(tf.matmul(tf.expand_dims(u_hat, axis=-1), tf.expand_dims(v, axis=-1), transpose_a=True), [4]) # agreement.shape: (None, 1152, 10, 1)\n",
        "                # Before matmul following intermediate shapes are present, they are not assigned to a variable but just for understanding the code.\n",
        "                # u_hat.shape (Intermediate shape) : (None, 1152, 10, 16, 1)\n",
        "                # v.shape (Intermediate shape): (None, 1, 10, 16, 1)\n",
        "                # Since the first parameter of matmul is to be transposed its shape becomes:(None, 1152, 10, 1, 16)\n",
        "                # Now matmul is performed in the last two dimensions, and others are broadcasted\n",
        "                # Before squeezing we have an intermediate shape of (None, 1152, 10, 1, 1)\n",
        "                b += agreement\n",
        "\n",
        "        with tf.name_scope(\"Masking\") as scope:\n",
        "            y = tf.expand_dims(y, axis=-1) # y.shape: (None, 10, 1)\n",
        "            y = tf.expand_dims(y, axis=1) # y.shape: (None, 1, 10, 1)\n",
        "            mask = tf.cast(y, dtype=tf.float32) # mask.shape: (None, 1, 10, 1)\n",
        "            v_masked = tf.multiply(mask, v) # v_masked.shape: (None, 1, 10, 16)\n",
        "\n",
        "        with tf.name_scope(\"Reconstruction\") as scope:\n",
        "            v_ = tf.reshape(v_masked, [-1, self.no_of_secondary_capsules * self.secondary_capsule_vector]) # v_.shape: (None, 160)\n",
        "            reconstructed_image = self.dense_1(v_) # reconstructed_image.shape: (None, 512)\n",
        "            reconstructed_image = self.dense_2(reconstructed_image) # reconstructed_image.shape: (None, 1024)\n",
        "            reconstructed_image = self.dense_3(reconstructed_image) # reconstructed_image.shape: (None, 784)\n",
        "\n",
        "        return v, reconstructed_image\n",
        "\n",
        "    @tf.function\n",
        "    def predict_capsule_output(self, inputs):\n",
        "        x = self.convolution(inputs) # x.shape: (None, 20, 20, 256)\n",
        "        x = self.primary_capsule(x) # x.shape: (None, 6, 6, 256)\n",
        "\n",
        "        with tf.name_scope(\"CapsuleFormation\") as scope:\n",
        "            u = tf.reshape(x, (-1, self.no_of_primary_capsules * x.shape[1] * x.shape[2], 8)) # u.shape: (None, 1152, 8)\n",
        "            u = tf.expand_dims(u, axis=-2) # u.shape: (None, 1152, 1, 8)\n",
        "            u = tf.expand_dims(u, axis=-1) # u.shape: (None, 1152, 1, 8, 1)\n",
        "            u_hat = tf.matmul(self.w, u) # u_hat.shape: (None, 1152, 10, 16, 1)\n",
        "            u_hat = tf.squeeze(u_hat, [4]) # u_hat.shape: (None, 1152, 10, 16)\n",
        "\n",
        "\n",
        "        with tf.name_scope(\"DynamicRouting\") as scope:\n",
        "            b = tf.zeros((inputs.shape[0], 1152, self.no_of_secondary_capsules, 1)) # b.shape: (None, 1152, 10, 1)\n",
        "            for i in range(self.r): # self.r = 3\n",
        "                c = tf.nn.softmax(b, axis=-2) # c.shape: (None, 1152, 10, 1)\n",
        "                s = tf.reduce_sum(tf.multiply(c, u_hat), axis=1, keepdims=True) # s.shape: (None, 1, 10, 16)\n",
        "                v = self.squash(s) # v.shape: (None, 1, 10, 16)\n",
        "                agreement = tf.squeeze(tf.matmul(tf.expand_dims(u_hat, axis=-1), tf.expand_dims(v, axis=-1), transpose_a=True), [4]) # agreement.shape: (None, 1152, 10, 1)\n",
        "                # Before matmul following intermediate shapes are present, they are not assigned to a variable but just for understanding the code.\n",
        "                # u_hat.shape (Intermediate shape) : (None, 1152, 10, 16, 1)\n",
        "                # v.shape (Intermediate shape): (None, 1, 10, 16, 1)\n",
        "                # Since the first parameter of matmul is to be transposed its shape becomes:(None, 1152, 10, 1, 16)\n",
        "                # Now matmul is performed in the last two dimensions, and others are broadcasted\n",
        "                # Before squeezing we have an intermediate shape of (None, 1152, 10, 1, 1)\n",
        "                b += agreement\n",
        "        return v\n",
        "\n",
        "    @tf.function\n",
        "    def regenerate_image(self, inputs):\n",
        "        with tf.name_scope(\"Reconstruction\") as scope:\n",
        "            v_ = tf.reshape(inputs, [-1, self.no_of_secondary_capsules * self.secondary_capsule_vector]) # v_.shape: (None, 160)\n",
        "            reconstructed_image = self.dense_1(v_) # reconstructed_image.shape: (None, 512)\n",
        "            reconstructed_image = self.dense_2(reconstructed_image) # reconstructed_image.shape: (None, 1024)\n",
        "            reconstructed_image = self.dense_3(reconstructed_image) # reconstructed_image.shape: (None, 784)\n",
        "        return reconstructed_image"
      ]
    },
    {
      "cell_type": "code",
      "execution_count": 4,
      "metadata": {
        "colab": {
          "base_uri": "https://localhost:8080/"
        },
        "id": "HdCBmocACSZT",
        "outputId": "08345e07-87a0-4bfa-c8ce-a1f92bd69a7c"
      },
      "outputs": [
        {
          "output_type": "stream",
          "name": "stderr",
          "text": [
            "WARNING:tensorflow:No `profiler_outdir` passed to trace_on(). Profiler won't be enabled.\n"
          ]
        }
      ],
      "source": [
        "tf.profiler.experimental.start('./logs/profiler_logs')\n",
        "tf.profiler.experimental.trace_on(profiler_outdir='./logs/profiler_logs')"
      ]
    },
    {
      "cell_type": "code",
      "execution_count": 14,
      "metadata": {
        "id": "S-lAG5TKCSZZ"
      },
      "outputs": [],
      "source": [
        "model = CapsuleNetwork(**params)"
      ]
    },
    {
      "cell_type": "code",
      "execution_count": 15,
      "metadata": {
        "id": "In9Dx61jCSZd"
      },
      "outputs": [],
      "source": [
        "def safe_norm(v, axis=-1, epsilon=1e-7):\n",
        "    v_ = tf.reduce_sum(tf.square(v), axis = axis, keepdims=True)\n",
        "    return tf.sqrt(v_ + epsilon)"
      ]
    },
    {
      "cell_type": "code",
      "execution_count": 16,
      "metadata": {
        "id": "i96YEEk9CSZg"
      },
      "outputs": [],
      "source": [
        "def loss_function(v, reconstructed_image, y, y_image):\n",
        "    prediction = safe_norm(v)\n",
        "    prediction = tf.reshape(prediction, [-1, no_of_secondary_capsules])\n",
        "\n",
        "    left_margin = tf.square(tf.maximum(0.0, m_plus - prediction))\n",
        "    right_margin = tf.square(tf.maximum(0.0, prediction - m_minus))\n",
        "\n",
        "    l = tf.add(y * left_margin, lambda_ * (1.0 - y) * right_margin)\n",
        "\n",
        "    margin_loss = tf.reduce_mean(tf.reduce_sum(l, axis=-1))\n",
        "\n",
        "    y_image_flat = tf.reshape(y_image, [-1, 784])\n",
        "    reconstruction_loss = tf.reduce_mean(tf.square(y_image_flat - reconstructed_image))\n",
        "\n",
        "    loss = tf.add(margin_loss, alpha * reconstruction_loss)\n",
        "\n",
        "    return loss"
      ]
    },
    {
      "cell_type": "code",
      "execution_count": 17,
      "metadata": {
        "id": "ZTlvPfHsCSZk"
      },
      "outputs": [],
      "source": [
        "def train(x,y):\n",
        "    y_one_hot = tf.one_hot(y, depth=10)\n",
        "    with tf.GradientTape() as tape:\n",
        "        v, reconstructed_image = model([x, y_one_hot])\n",
        "        loss = loss_function(v, reconstructed_image, y_one_hot, x)\n",
        "    grad = tape.gradient(loss, model.trainable_variables)\n",
        "    optimizer.apply_gradients(zip(grad, model.trainable_variables))\n",
        "    return loss"
      ]
    },
    {
      "cell_type": "code",
      "execution_count": null,
      "metadata": {
        "id": "VeqGD39BCSZo"
      },
      "outputs": [],
      "source": [
        "_ = train(X_train[:32],y_train[:32])\n",
        "with writer.as_default():\n",
        "    tf.summary.trace_export(name=\"my_func_trace\", step=0, profiler_outdir=logdir)"
      ]
    },
    {
      "cell_type": "code",
      "execution_count": 5,
      "metadata": {
        "colab": {
          "base_uri": "https://localhost:8080/"
        },
        "id": "9yviNJHHCSZs",
        "outputId": "cf39139d-c6a4-431e-ba58-69f16999f61d",
        "collapsed": true
      },
      "outputs": [
        {
          "output_type": "stream",
          "name": "stderr",
          "text": [
            "WARNING:tensorflow:Error while stopping profiler: Cannot export profiling results. No profiler is running.\n"
          ]
        }
      ],
      "source": [
        "tf.summary.trace_off()"
      ]
    },
    {
      "cell_type": "code",
      "execution_count": 20,
      "metadata": {
        "colab": {
          "base_uri": "https://localhost:8080/",
          "height": 289
        },
        "id": "tf2mm1K_CSZv",
        "outputId": "b5ba99b0-059c-4eca-b277-f21221953e45"
      },
      "outputs": [
        {
          "output_type": "display_data",
          "data": {
            "text/plain": [
              "\u001b[1mModel: \"capsule_network\"\u001b[0m\n"
            ],
            "text/html": [
              "<pre style=\"white-space:pre;overflow-x:auto;line-height:normal;font-family:Menlo,'DejaVu Sans Mono',consolas,'Courier New',monospace\"><span style=\"font-weight: bold\">Model: \"capsule_network\"</span>\n",
              "</pre>\n"
            ]
          },
          "metadata": {}
        },
        {
          "output_type": "display_data",
          "data": {
            "text/plain": [
              "┏━━━━━━━━━━━━━━━━━━━━━━━━━━━━━━━━━━━━━━┳━━━━━━━━━━━━━━━━━━━━━━━━━━━━━┳━━━━━━━━━━━━━━━━━┓\n",
              "┃\u001b[1m \u001b[0m\u001b[1mLayer (type)                        \u001b[0m\u001b[1m \u001b[0m┃\u001b[1m \u001b[0m\u001b[1mOutput Shape               \u001b[0m\u001b[1m \u001b[0m┃\u001b[1m \u001b[0m\u001b[1m        Param #\u001b[0m\u001b[1m \u001b[0m┃\n",
              "┡━━━━━━━━━━━━━━━━━━━━━━━━━━━━━━━━━━━━━━╇━━━━━━━━━━━━━━━━━━━━━━━━━━━━━╇━━━━━━━━━━━━━━━━━┩\n",
              "│ ConvolutionLayer (\u001b[38;5;33mConv2D\u001b[0m)            │ (\u001b[38;5;34m32\u001b[0m, \u001b[38;5;34m20\u001b[0m, \u001b[38;5;34m20\u001b[0m, \u001b[38;5;34m256\u001b[0m)           │          \u001b[38;5;34m20,992\u001b[0m │\n",
              "├──────────────────────────────────────┼─────────────────────────────┼─────────────────┤\n",
              "│ PrimaryCapsule (\u001b[38;5;33mConv2D\u001b[0m)              │ (\u001b[38;5;34m32\u001b[0m, \u001b[38;5;34m6\u001b[0m, \u001b[38;5;34m6\u001b[0m, \u001b[38;5;34m256\u001b[0m)             │       \u001b[38;5;34m5,308,672\u001b[0m │\n",
              "├──────────────────────────────────────┼─────────────────────────────┼─────────────────┤\n",
              "│ dense (\u001b[38;5;33mDense\u001b[0m)                        │ (\u001b[38;5;34m32\u001b[0m, \u001b[38;5;34m512\u001b[0m)                   │          \u001b[38;5;34m82,432\u001b[0m │\n",
              "├──────────────────────────────────────┼─────────────────────────────┼─────────────────┤\n",
              "│ dense_1 (\u001b[38;5;33mDense\u001b[0m)                      │ (\u001b[38;5;34m32\u001b[0m, \u001b[38;5;34m1024\u001b[0m)                  │         \u001b[38;5;34m525,312\u001b[0m │\n",
              "├──────────────────────────────────────┼─────────────────────────────┼─────────────────┤\n",
              "│ dense_2 (\u001b[38;5;33mDense\u001b[0m)                      │ (\u001b[38;5;34m32\u001b[0m, \u001b[38;5;34m784\u001b[0m)                   │         \u001b[38;5;34m803,600\u001b[0m │\n",
              "└──────────────────────────────────────┴─────────────────────────────┴─────────────────┘\n"
            ],
            "text/html": [
              "<pre style=\"white-space:pre;overflow-x:auto;line-height:normal;font-family:Menlo,'DejaVu Sans Mono',consolas,'Courier New',monospace\">┏━━━━━━━━━━━━━━━━━━━━━━━━━━━━━━━━━━━━━━┳━━━━━━━━━━━━━━━━━━━━━━━━━━━━━┳━━━━━━━━━━━━━━━━━┓\n",
              "┃<span style=\"font-weight: bold\"> Layer (type)                         </span>┃<span style=\"font-weight: bold\"> Output Shape                </span>┃<span style=\"font-weight: bold\">         Param # </span>┃\n",
              "┡━━━━━━━━━━━━━━━━━━━━━━━━━━━━━━━━━━━━━━╇━━━━━━━━━━━━━━━━━━━━━━━━━━━━━╇━━━━━━━━━━━━━━━━━┩\n",
              "│ ConvolutionLayer (<span style=\"color: #0087ff; text-decoration-color: #0087ff\">Conv2D</span>)            │ (<span style=\"color: #00af00; text-decoration-color: #00af00\">32</span>, <span style=\"color: #00af00; text-decoration-color: #00af00\">20</span>, <span style=\"color: #00af00; text-decoration-color: #00af00\">20</span>, <span style=\"color: #00af00; text-decoration-color: #00af00\">256</span>)           │          <span style=\"color: #00af00; text-decoration-color: #00af00\">20,992</span> │\n",
              "├──────────────────────────────────────┼─────────────────────────────┼─────────────────┤\n",
              "│ PrimaryCapsule (<span style=\"color: #0087ff; text-decoration-color: #0087ff\">Conv2D</span>)              │ (<span style=\"color: #00af00; text-decoration-color: #00af00\">32</span>, <span style=\"color: #00af00; text-decoration-color: #00af00\">6</span>, <span style=\"color: #00af00; text-decoration-color: #00af00\">6</span>, <span style=\"color: #00af00; text-decoration-color: #00af00\">256</span>)             │       <span style=\"color: #00af00; text-decoration-color: #00af00\">5,308,672</span> │\n",
              "├──────────────────────────────────────┼─────────────────────────────┼─────────────────┤\n",
              "│ dense (<span style=\"color: #0087ff; text-decoration-color: #0087ff\">Dense</span>)                        │ (<span style=\"color: #00af00; text-decoration-color: #00af00\">32</span>, <span style=\"color: #00af00; text-decoration-color: #00af00\">512</span>)                   │          <span style=\"color: #00af00; text-decoration-color: #00af00\">82,432</span> │\n",
              "├──────────────────────────────────────┼─────────────────────────────┼─────────────────┤\n",
              "│ dense_1 (<span style=\"color: #0087ff; text-decoration-color: #0087ff\">Dense</span>)                      │ (<span style=\"color: #00af00; text-decoration-color: #00af00\">32</span>, <span style=\"color: #00af00; text-decoration-color: #00af00\">1024</span>)                  │         <span style=\"color: #00af00; text-decoration-color: #00af00\">525,312</span> │\n",
              "├──────────────────────────────────────┼─────────────────────────────┼─────────────────┤\n",
              "│ dense_2 (<span style=\"color: #0087ff; text-decoration-color: #0087ff\">Dense</span>)                      │ (<span style=\"color: #00af00; text-decoration-color: #00af00\">32</span>, <span style=\"color: #00af00; text-decoration-color: #00af00\">784</span>)                   │         <span style=\"color: #00af00; text-decoration-color: #00af00\">803,600</span> │\n",
              "└──────────────────────────────────────┴─────────────────────────────┴─────────────────┘\n",
              "</pre>\n"
            ]
          },
          "metadata": {}
        },
        {
          "output_type": "display_data",
          "data": {
            "text/plain": [
              "\u001b[1m Total params: \u001b[0m\u001b[38;5;34m6,741,008\u001b[0m (25.71 MB)\n"
            ],
            "text/html": [
              "<pre style=\"white-space:pre;overflow-x:auto;line-height:normal;font-family:Menlo,'DejaVu Sans Mono',consolas,'Courier New',monospace\"><span style=\"font-weight: bold\"> Total params: </span><span style=\"color: #00af00; text-decoration-color: #00af00\">6,741,008</span> (25.71 MB)\n",
              "</pre>\n"
            ]
          },
          "metadata": {}
        },
        {
          "output_type": "display_data",
          "data": {
            "text/plain": [
              "\u001b[1m Trainable params: \u001b[0m\u001b[38;5;34m6,741,008\u001b[0m (25.71 MB)\n"
            ],
            "text/html": [
              "<pre style=\"white-space:pre;overflow-x:auto;line-height:normal;font-family:Menlo,'DejaVu Sans Mono',consolas,'Courier New',monospace\"><span style=\"font-weight: bold\"> Trainable params: </span><span style=\"color: #00af00; text-decoration-color: #00af00\">6,741,008</span> (25.71 MB)\n",
              "</pre>\n"
            ]
          },
          "metadata": {}
        },
        {
          "output_type": "display_data",
          "data": {
            "text/plain": [
              "\u001b[1m Non-trainable params: \u001b[0m\u001b[38;5;34m0\u001b[0m (0.00 B)\n"
            ],
            "text/html": [
              "<pre style=\"white-space:pre;overflow-x:auto;line-height:normal;font-family:Menlo,'DejaVu Sans Mono',consolas,'Courier New',monospace\"><span style=\"font-weight: bold\"> Non-trainable params: </span><span style=\"color: #00af00; text-decoration-color: #00af00\">0</span> (0.00 B)\n",
              "</pre>\n"
            ]
          },
          "metadata": {}
        }
      ],
      "source": [
        "model.summary()"
      ]
    },
    {
      "cell_type": "code",
      "execution_count": 22,
      "metadata": {
        "id": "k9MdXHBoCSZy"
      },
      "outputs": [],
      "source": [
        "def predict(model, x):\n",
        "    pred = safe_norm(model.predict_capsule_output(x))\n",
        "    pred = tf.squeeze(pred, [1])\n",
        "    return np.argmax(pred, axis=1)[:,0]"
      ]
    },
    {
      "cell_type": "code",
      "execution_count": 21,
      "metadata": {
        "id": "603FUUezCSZ0"
      },
      "outputs": [],
      "source": [
        "checkpoint = tf.train.Checkpoint(model=model)"
      ]
    },
    {
      "cell_type": "code",
      "execution_count": 2,
      "metadata": {
        "colab": {
          "base_uri": "https://localhost:8080/"
        },
        "id": "rvV7wlg1CSZ3",
        "outputId": "637b6d89-88e6-44fb-ae4e-c3dd727b2bb6"
      },
      "outputs": [
        {
          "output_type": "stream",
          "name": "stderr",
          "text": [
            "UsageError: Line magic function `%tensorboard` not found.\n"
          ]
        }
      ],
      "source": [
        "%tensorboard --logdir ./scalars"
      ]
    },
    {
      "cell_type": "code",
      "execution_count": null,
      "metadata": {
        "colab": {
          "base_uri": "https://localhost:8080/"
        },
        "id": "N9sQf2eCCSZ8",
        "outputId": "7e58b3ab-663b-4ae0-9d37-374fa8a2502c"
      },
      "outputs": [
        {
          "output_type": "stream",
          "name": "stderr",
          "text": [
            "Epoch 1/50:  81%|████████  | 761/938 [04:49<00:58,  3.00it/s]"
          ]
        }
      ],
      "source": [
        "losses = []\n",
        "accuracy = []\n",
        "for i in range(1, epochs+1, 1):\n",
        "\n",
        "    loss = 0\n",
        "    with tqdm(total=len(dataset)) as pbar:\n",
        "\n",
        "        description = \"Epoch \" + str(i) + \"/\" + str(epochs)\n",
        "        pbar.set_description_str(description)\n",
        "\n",
        "        for X_batch, y_batch in dataset:\n",
        "\n",
        "            loss += train(X_batch,y_batch)\n",
        "            pbar.update(1)\n",
        "\n",
        "        loss /= len(dataset)\n",
        "        losses.append(loss.numpy())\n",
        "\n",
        "        training_sum = 0\n",
        "\n",
        "        print_statement = \"Loss :\" + str(loss.numpy()) + \" Evaluating Accuracy ...\"\n",
        "        pbar.set_postfix_str(print_statement)\n",
        "\n",
        "        for X_batch, y_batch in dataset:\n",
        "            training_sum += sum(predict(model, X_batch)==y_batch.numpy())\n",
        "        accuracy.append(training_sum/training_dataset_size)\n",
        "\n",
        "        with file_writer.as_default():\n",
        "            tf.summary.scalar('Loss', data=loss.numpy(), step=i)\n",
        "            tf.summary.scalar('Accuracy', data=accuracy[-1], step=i)\n",
        "\n",
        "        print_statement = \"Loss :\" + str(loss.numpy()) + \" Accuracy :\" + str(accuracy[-1])\n",
        "\n",
        "        if i % 10 == 0:\n",
        "            print_statement += ' Checkpoint Saved'\n",
        "            checkpoint.save(checkpoint_path)\n",
        "\n",
        "        pbar.set_postfix_str(print_statement)"
      ]
    },
    {
      "cell_type": "code",
      "execution_count": 1,
      "metadata": {
        "colab": {
          "base_uri": "https://localhost:8080/",
          "height": 193
        },
        "id": "xVKN-GbxsHrh",
        "outputId": "8c70623c-a420-4b4e-eb70-427970e2b06e"
      },
      "outputs": [
        {
          "output_type": "error",
          "ename": "NameError",
          "evalue": "name 'testing' is not defined",
          "traceback": [
            "\u001b[0;31m---------------------------------------------------------------------------\u001b[0m",
            "\u001b[0;31mNameError\u001b[0m                                 Traceback (most recent call last)",
            "\u001b[0;32m<ipython-input-1-f75676b67b60>\u001b[0m in \u001b[0;36m<cell line: 0>\u001b[0;34m()\u001b[0m\n\u001b[1;32m      1\u001b[0m \u001b[0mtest_sum\u001b[0m \u001b[0;34m=\u001b[0m \u001b[0;36m0\u001b[0m\u001b[0;34m\u001b[0m\u001b[0;34m\u001b[0m\u001b[0m\n\u001b[0;32m----> 2\u001b[0;31m \u001b[0;32mfor\u001b[0m \u001b[0mX_batch\u001b[0m\u001b[0;34m,\u001b[0m \u001b[0my_batch\u001b[0m \u001b[0;32min\u001b[0m \u001b[0mtesting\u001b[0m\u001b[0;34m:\u001b[0m\u001b[0;34m\u001b[0m\u001b[0;34m\u001b[0m\u001b[0m\n\u001b[0m\u001b[1;32m      3\u001b[0m     \u001b[0mtest_sum\u001b[0m \u001b[0;34m+=\u001b[0m \u001b[0msum\u001b[0m\u001b[0;34m(\u001b[0m\u001b[0mpredict\u001b[0m\u001b[0;34m(\u001b[0m\u001b[0mmodel\u001b[0m\u001b[0;34m,\u001b[0m \u001b[0mX_batch\u001b[0m\u001b[0;34m)\u001b[0m\u001b[0;34m==\u001b[0m\u001b[0my_batch\u001b[0m\u001b[0;34m.\u001b[0m\u001b[0mnumpy\u001b[0m\u001b[0;34m(\u001b[0m\u001b[0;34m)\u001b[0m\u001b[0;34m)\u001b[0m\u001b[0;34m\u001b[0m\u001b[0;34m\u001b[0m\u001b[0m\n\u001b[1;32m      4\u001b[0m \u001b[0mprint\u001b[0m\u001b[0;34m(\u001b[0m\u001b[0mtest_sum\u001b[0m\u001b[0;34m/\u001b[0m\u001b[0mtesting_dataset_size\u001b[0m\u001b[0;34m)\u001b[0m\u001b[0;34m\u001b[0m\u001b[0;34m\u001b[0m\u001b[0m\n",
            "\u001b[0;31mNameError\u001b[0m: name 'testing' is not defined"
          ]
        }
      ],
      "source": [
        "test_sum = 0\n",
        "for X_batch, y_batch in testing:\n",
        "    test_sum += sum(predict(model, X_batch)==y_batch.numpy())\n",
        "print(test_sum/testing_dataset_size)"
      ]
    }
  ],
  "metadata": {
    "accelerator": "GPU",
    "colab": {
      "provenance": []
    },
    "kernelspec": {
      "display_name": "Python 3",
      "language": "python",
      "name": "python3"
    },
    "language_info": {
      "codemirror_mode": {
        "name": "ipython",
        "version": 3
      },
      "file_extension": ".py",
      "mimetype": "text/x-python",
      "name": "python",
      "nbconvert_exporter": "python",
      "pygments_lexer": "ipython3",
      "version": "3.8.2"
    }
  },
  "nbformat": 4,
  "nbformat_minor": 0
}